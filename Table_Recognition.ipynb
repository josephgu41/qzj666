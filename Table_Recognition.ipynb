{
 "cells": [
  {
   "cell_type": "markdown",
   "metadata": {
    "id": "1fYeYVp2klFt",
    "tags": []
   },
   "source": [
    "# Multi-Type-TD-TSR Demo Notebook\n",
    "## 1. Install all the prerequisite\n"
   ]
  },
  {
   "cell_type": "markdown",
   "metadata": {},
   "source": [
    "环境变量我已经配好了，直接跳转到带边框的表格识别的部分即可。"
   ]
  },
  {
   "cell_type": "code",
   "execution_count": 1,
   "metadata": {
    "id": "a6r3GX0ztv2T"
   },
   "outputs": [
    {
     "name": "stdout",
     "output_type": "stream",
     "text": [
      "CUDA Version 10.1.243\n"
     ]
    }
   ],
   "source": [
    "# install CUDA 10.1 if necessary\n",
    "# !apt install cuda-10-1 -y\n",
    "!cat /usr/local/cuda/version.txt"
   ]
  },
  {
   "cell_type": "code",
   "execution_count": null,
   "metadata": {
    "id": "s9dI-UTk2JEG"
   },
   "outputs": [],
   "source": [
    "# install dependencies: \n",
    "!pip install pyyaml==5.1\n",
    "!pip install torch==1.7\n",
    "!pip install torchvision==0.8.1\n",
    "import torch, torchvision\n",
    "print(torch.__version__, torch.cuda.is_available())\n",
    "!gcc --version\n",
    "# opencv is pre-installed on colab\n",
    "\n",
    "# install detectron2: (Colab has CUDA 10.1 + torch 1.7)\n",
    "# See https://detectron2.readthedocs.io/tutorials/install.html for instructions\n",
    "\n",
    "!apt install tesseract-ocr \n",
    "!pip install pytesseract\n",
    "\n",
    "import torch, torchvision\n",
    "torch.__version__\n",
    "assert torch.__version__.startswith(\"1.7\")\n",
    "!pip install detectron2 -f https://dl.fbaipublicfiles.com/detectron2/wheels/cu101/torch1.7/index.html\n",
    "# exit(0)  # After installation, you need to \"restart runtime\" in Colab. This line can also restart runtime"
   ]
  },
  {
   "cell_type": "markdown",
   "metadata": {},
   "source": [
    "## 以下是安装PaddlePaddle OCR的步骤\n",
    "[旧版本](https://www.paddlepaddle.org.cn/install/old?docurl=/documentation/docs/zh/install/conda/windows-conda.html)"
   ]
  },
  {
   "cell_type": "code",
   "execution_count": null,
   "metadata": {},
   "outputs": [],
   "source": [
    "!python -m pip install paddlepaddle-gpu==2.3.2.post101 -f https://www.paddlepaddle.org.cn/whl/linux/mkl/avx/stable.html"
   ]
  },
  {
   "cell_type": "markdown",
   "metadata": {
    "id": "pQUnnsinlQVT",
    "tags": []
   },
   "source": [
    "## 2. Clone the Repository "
   ]
  },
  {
   "cell_type": "code",
   "execution_count": null,
   "metadata": {
    "colab": {
     "base_uri": "https://localhost:8080/"
    },
    "id": "XTodlMS3k6gL",
    "outputId": "18084da0-8a0b-4618-8e2e-e0b7edb43652"
   },
   "outputs": [],
   "source": [
    "!export http_proxy=http://192.168.1.174:12798 && export https_proxy=http://192.168.1.174:12798 # autodl学术加速\n",
    "!git clone https://github.com/Psarpei/Multi-Type-TD-TSR.git\n",
    "!mv Multi-Type-TD-TSR/ Multi_Type_TD_TSR"
   ]
  },
  {
   "cell_type": "markdown",
   "metadata": {
    "id": "NzywSWN0mPqt"
   },
   "source": [
    "## 3. Download Table Detection Weights and Configuration File"
   ]
  },
  {
   "cell_type": "code",
   "execution_count": null,
   "metadata": {
    "colab": {
     "base_uri": "https://localhost:8080/"
    },
    "id": "9PM35KxbmQBp",
    "outputId": "cbbde868-ccd4-4ca0-bd15-961b1077a0e2"
   },
   "outputs": [],
   "source": [
    "# colab预装gdown，zg不能访问google drive，手动上传文件\n",
    "# 下载的文件为 model_final.pth All_X152.yaml Base-RCNN-FPN.yaml\n",
    "!gdown --id 11FgFTy0MyVUMGd00T_InEDaarB4qAlP8\n",
    "!gdown --id 1WBk6kHHyvyEzoPBsRr2BvFY51zURjd4R\n",
    "!gdown --id 1PfA2uws919gc893-x9uMIz06zWEko8nF "
   ]
  },
  {
   "cell_type": "markdown",
   "metadata": {
    "id": "rAcoWOJhuy9f"
   },
   "source": [
    "## 4. Import Everything"
   ]
  },
  {
   "cell_type": "code",
   "execution_count": 5,
   "metadata": {},
   "outputs": [
    {
     "name": "stdout",
     "output_type": "stream",
     "text": [
      "Collecting package metadata (current_repodata.json): done\n",
      "Solving environment: done\n",
      "\n",
      "# All requested packages already installed.\n",
      "\n"
     ]
    }
   ],
   "source": [
    "# install open-cv2\n",
    "!conda install -c conda-forge opencv"
   ]
  },
  {
   "cell_type": "code",
   "execution_count": 8,
   "metadata": {},
   "outputs": [
    {
     "name": "stdout",
     "output_type": "stream",
     "text": [
      "Looking in indexes: https://repo.huaweicloud.com/repository/pypi/simple\n",
      "Collecting pandas\n",
      "  Downloading https://repo.huaweicloud.com/repository/pypi/packages/9c/6c/3bfce7f343360c1b537fb59ecbf6865e21d5c8d9e07a632bc6725744e919/pandas-1.5.2-cp38-cp38-manylinux_2_17_x86_64.manylinux2014_x86_64.whl (12.2 MB)\n",
      "\u001b[K     |████████████████████████████████| 12.2 MB 23.9 MB/s eta 0:00:01\n",
      "\u001b[?25hRequirement already satisfied: pytz>=2020.1 in /root/miniconda3/lib/python3.8/site-packages (from pandas) (2021.3)\n",
      "Requirement already satisfied: python-dateutil>=2.8.1 in /root/miniconda3/lib/python3.8/site-packages (from pandas) (2.8.2)\n",
      "Requirement already satisfied: numpy>=1.20.3 in /root/miniconda3/lib/python3.8/site-packages (from pandas) (1.22.3)\n",
      "Requirement already satisfied: six>=1.5 in /root/miniconda3/lib/python3.8/site-packages (from python-dateutil>=2.8.1->pandas) (1.16.0)\n",
      "Installing collected packages: pandas\n",
      "Successfully installed pandas-1.5.2\n",
      "\u001b[33mWARNING: Running pip as the 'root' user can result in broken permissions and conflicting behaviour with the system package manager. It is recommended to use a virtual environment instead: https://pip.pypa.io/warnings/venv\u001b[0m\n"
     ]
    }
   ],
   "source": [
    "!pip install pandas"
   ]
  },
  {
   "cell_type": "code",
   "execution_count": 3,
   "metadata": {
    "colab": {
     "base_uri": "https://localhost:8080/"
    },
    "id": "APmN3Hzy2hBT",
    "outputId": "ad7f5ea4-fa05-4f30-f567-4bb5de0db4a6"
   },
   "outputs": [
    {
     "ename": "ModuleNotFoundError",
     "evalue": "No module named 'google.colab'",
     "output_type": "error",
     "traceback": [
      "\u001b[0;31m---------------------------------------------------------------------------\u001b[0m",
      "\u001b[0;31mModuleNotFoundError\u001b[0m                       Traceback (most recent call last)",
      "Cell \u001b[0;32mIn[3], line 3\u001b[0m\n\u001b[1;32m      1\u001b[0m \u001b[38;5;28;01mimport\u001b[39;00m \u001b[38;5;21;01mdetectron2\u001b[39;00m\n\u001b[1;32m      2\u001b[0m \u001b[38;5;28;01mimport\u001b[39;00m \u001b[38;5;21;01mMulti_Type_TD_TSR\u001b[39;00m\u001b[38;5;21;01m.\u001b[39;00m\u001b[38;5;21;01mgoogle_colab\u001b[39;00m\u001b[38;5;21;01m.\u001b[39;00m\u001b[38;5;21;01mdeskew\u001b[39;00m \u001b[38;5;28;01mas\u001b[39;00m \u001b[38;5;21;01mdeskew\u001b[39;00m\n\u001b[0;32m----> 3\u001b[0m \u001b[38;5;28;01mimport\u001b[39;00m \u001b[38;5;21;01mMulti_Type_TD_TSR\u001b[39;00m\u001b[38;5;21;01m.\u001b[39;00m\u001b[38;5;21;01mgoogle_colab\u001b[39;00m\u001b[38;5;21;01m.\u001b[39;00m\u001b[38;5;21;01mtable_detection\u001b[39;00m \u001b[38;5;28;01mas\u001b[39;00m \u001b[38;5;21;01mtable_detection\u001b[39;00m\n\u001b[1;32m      4\u001b[0m \u001b[38;5;28;01mimport\u001b[39;00m \u001b[38;5;21;01mMulti_Type_TD_TSR\u001b[39;00m\u001b[38;5;21;01m.\u001b[39;00m\u001b[38;5;21;01mgoogle_colab\u001b[39;00m\u001b[38;5;21;01m.\u001b[39;00m\u001b[38;5;21;01mtable_structure_recognition_all\u001b[39;00m \u001b[38;5;28;01mas\u001b[39;00m \u001b[38;5;21;01mtsra\u001b[39;00m\n\u001b[1;32m      5\u001b[0m \u001b[38;5;28;01mimport\u001b[39;00m \u001b[38;5;21;01mMulti_Type_TD_TSR\u001b[39;00m\u001b[38;5;21;01m.\u001b[39;00m\u001b[38;5;21;01mgoogle_colab\u001b[39;00m\u001b[38;5;21;01m.\u001b[39;00m\u001b[38;5;21;01mtable_structure_recognition_lines\u001b[39;00m \u001b[38;5;28;01mas\u001b[39;00m \u001b[38;5;21;01mtsrl\u001b[39;00m\n",
      "File \u001b[0;32m~/autodl-tmp/Multi-Type-TD-TSR/Multi_Type_TD_TSR/google_colab/table_detection.py:2\u001b[0m\n\u001b[1;32m      1\u001b[0m \u001b[38;5;28;01mimport\u001b[39;00m \u001b[38;5;21;01mcv2\u001b[39;00m\n\u001b[0;32m----> 2\u001b[0m \u001b[38;5;28;01mfrom\u001b[39;00m \u001b[38;5;21;01mgoogle\u001b[39;00m\u001b[38;5;21;01m.\u001b[39;00m\u001b[38;5;21;01mcolab\u001b[39;00m\u001b[38;5;21;01m.\u001b[39;00m\u001b[38;5;21;01mpatches\u001b[39;00m \u001b[38;5;28;01mimport\u001b[39;00m cv2_imshow\n\u001b[1;32m      3\u001b[0m \u001b[38;5;28;01mimport\u001b[39;00m \u001b[38;5;21;01mnumpy\u001b[39;00m \u001b[38;5;28;01mas\u001b[39;00m \u001b[38;5;21;01mnp\u001b[39;00m\n\u001b[1;32m      5\u001b[0m \u001b[38;5;28;01mdef\u001b[39;00m \u001b[38;5;21mplot_prediction\u001b[39m(img, predictor):\n",
      "\u001b[0;31mModuleNotFoundError\u001b[0m: No module named 'google.colab'"
     ]
    }
   ],
   "source": [
    "import detectron2\n",
    "import Multi_Type_TD_TSR.google_colab.deskew as deskew\n",
    "import Multi_Type_TD_TSR.google_colab.table_detection as table_detection\n",
    "import Multi_Type_TD_TSR.google_colab.table_structure_recognition_all as tsra\n",
    "import Multi_Type_TD_TSR.google_colab.table_structure_recognition_lines as tsrl\n",
    "import Multi_Type_TD_TSR.google_colab.table_structure_recognition_wol as tsrwol\n",
    "import Multi_Type_TD_TSR.google_colab.table_structure_recognition_lines_wol as tsrlwol\n",
    "import Multi_Type_TD_TSR.google_colab.table_xml as txml\n",
    "import Multi_Type_TD_TSR.google_colab.table_ocr as tocr\n",
    "import pandas as pd\n",
    "import os\n",
    "import json\n",
    "import itertools\n",
    "import random\n",
    "from detectron2.utils.logger import setup_logger\n",
    "# import some common libraries\n",
    "import numpy as np\n",
    "import cv2\n",
    "import matplotlib.pyplot as plt\n",
    "# import some common detectron2 utilities\n",
    "from detectron2 import model_zoo\n",
    "from detectron2.engine import DefaultPredictor\n",
    "from detectron2.config import get_cfg\n",
    "from detectron2.utils.visualizer import Visualizer\n",
    "from detectron2.data import MetadataCatalog\n",
    "from detectron2.data import DatasetCatalog, MetadataCatalog\n",
    "from google.colab.patches import cv2_imshow\n",
    "setup_logger()"
   ]
  },
  {
   "cell_type": "markdown",
   "metadata": {
    "id": "gfC4Tc0qyY-k"
   },
   "source": [
    "## 5. Initialize Table Detection Detector"
   ]
  },
  {
   "cell_type": "code",
   "execution_count": 1,
   "metadata": {
    "colab": {
     "base_uri": "https://localhost:8080/"
    },
    "id": "40USlclsyW4K",
    "outputId": "c0fa9ee4-996c-4782-9622-09561cee3186"
   },
   "outputs": [
    {
     "ename": "NameError",
     "evalue": "name 'get_cfg' is not defined",
     "output_type": "error",
     "traceback": [
      "\u001b[0;31m---------------------------------------------------------------------------\u001b[0m",
      "\u001b[0;31mNameError\u001b[0m                                 Traceback (most recent call last)",
      "Cell \u001b[0;32mIn[1], line 2\u001b[0m\n\u001b[1;32m      1\u001b[0m \u001b[38;5;66;03m#create detectron config\u001b[39;00m\n\u001b[0;32m----> 2\u001b[0m cfg \u001b[38;5;241m=\u001b[39m \u001b[43mget_cfg\u001b[49m()\n\u001b[1;32m      4\u001b[0m \u001b[38;5;66;03m#set yaml\u001b[39;00m\n\u001b[1;32m      5\u001b[0m cfg\u001b[38;5;241m.\u001b[39mmerge_from_file(\u001b[38;5;124m'\u001b[39m\u001b[38;5;124m./All_X152.yaml\u001b[39m\u001b[38;5;124m'\u001b[39m)\n",
      "\u001b[0;31mNameError\u001b[0m: name 'get_cfg' is not defined"
     ]
    }
   ],
   "source": [
    "#create detectron config\n",
    "cfg = get_cfg()\n",
    "\n",
    "#set yaml\n",
    "cfg.merge_from_file('./All_X152.yaml')\n",
    "\n",
    "#set model weights\n",
    "cfg.MODEL.WEIGHTS = './model_final.pth' # Set path model .pth\n",
    "\n",
    "predictor = DefaultPredictor(cfg) "
   ]
  },
  {
   "cell_type": "markdown",
   "metadata": {
    "id": "74mow_zjx9PM"
   },
   "source": [
    "#Table Rotation"
   ]
  },
  {
   "cell_type": "code",
   "execution_count": 2,
   "metadata": {
    "colab": {
     "base_uri": "https://localhost:8080/",
     "height": 1000
    },
    "id": "igUxUIfgjDAv",
    "outputId": "acdfa3b5-6d8d-48dc-9043-8f587be65822"
   },
   "outputs": [
    {
     "ename": "NameError",
     "evalue": "name 'cv2' is not defined",
     "output_type": "error",
     "traceback": [
      "\u001b[0;31m---------------------------------------------------------------------------\u001b[0m",
      "\u001b[0;31mNameError\u001b[0m                                 Traceback (most recent call last)",
      "Cell \u001b[0;32mIn[2], line 5\u001b[0m\n\u001b[1;32m      2\u001b[0m file \u001b[38;5;241m=\u001b[39m \u001b[38;5;124m\"\u001b[39m\u001b[38;5;124m./Multi_Type_TD_TSR/images/rotated_example.jpeg\u001b[39m\u001b[38;5;124m\"\u001b[39m \n\u001b[1;32m      4\u001b[0m \u001b[38;5;66;03m# load the image from disk\u001b[39;00m\n\u001b[0;32m----> 5\u001b[0m original_image \u001b[38;5;241m=\u001b[39m \u001b[43mcv2\u001b[49m\u001b[38;5;241m.\u001b[39mimread(file)\n\u001b[1;32m      6\u001b[0m deskewed_image \u001b[38;5;241m=\u001b[39m deskew\u001b[38;5;241m.\u001b[39mdeskewImage(original_image)\n\u001b[1;32m      8\u001b[0m \u001b[38;5;28mprint\u001b[39m(\u001b[38;5;124m\"\u001b[39m\u001b[38;5;124mORIGINAL IMAGE:\u001b[39m\u001b[38;5;124m\"\u001b[39m)\n",
      "\u001b[0;31mNameError\u001b[0m: name 'cv2' is not defined"
     ]
    }
   ],
   "source": [
    "# path to the image scan of the document\n",
    "file = \"./Multi_Type_TD_TSR/images/rotated_example.jpeg\" \n",
    "\n",
    "# load the image from disk\n",
    "original_image = cv2.imread(file)\n",
    "deskewed_image = deskew.deskewImage(original_image)\n",
    "\n",
    "print(\"ORIGINAL IMAGE:\")\n",
    "cv2_imshow(original_image)\n",
    "\n",
    "print()\n",
    "\n",
    "print(\"DESKEWED IMAGE:\")\n",
    "cv2_imshow(deskewed_image)"
   ]
  },
  {
   "cell_type": "markdown",
   "metadata": {
    "id": "ZULY2YyDJoYH"
   },
   "source": [
    "# Table Detection"
   ]
  },
  {
   "cell_type": "code",
   "execution_count": null,
   "metadata": {
    "colab": {
     "base_uri": "https://localhost:8080/",
     "height": 963
    },
    "id": "xKuMpvAXBvD4",
    "outputId": "0ec12bb9-2658-431b-9089-2d5df11479ef"
   },
   "outputs": [],
   "source": [
    "document_img = cv2.imread(\"/content/Multi_Type_TD_TSR/images/color_invariance_example.jpg\")\n",
    "table_detection.plot_prediction(document_img, predictor)\n"
   ]
  },
  {
   "cell_type": "code",
   "execution_count": null,
   "metadata": {
    "colab": {
     "base_uri": "https://localhost:8080/",
     "height": 529
    },
    "id": "goa0nEKiEvip",
    "outputId": "9b675ca8-43cb-4b7b-a389-b5cde400607c"
   },
   "outputs": [],
   "source": [
    "table_list, table_coords = table_detection.make_prediction(document_img, predictor)"
   ]
  },
  {
   "cell_type": "markdown",
   "metadata": {
    "id": "HeGQWPR3KDcf"
   },
   "source": [
    "#Table Structure Recognition Partially Bordered Tables\n",
    "# with Color Invariance Pre-Processing"
   ]
  },
  {
   "cell_type": "code",
   "execution_count": null,
   "metadata": {
    "colab": {
     "base_uri": "https://localhost:8080/",
     "height": 1000
    },
    "id": "HVVvmfij9vDA",
    "outputId": "b579f871-6cf1-40ba-8ec5-56c482d84735"
   },
   "outputs": [],
   "source": [
    "list_table_boxes = []\n",
    "\n",
    "for table in table_list:\n",
    "    finalboxes, output_img = tsra.recognize_structure(table)\n",
    "    list_table_boxes.append(finalboxes)"
   ]
  },
  {
   "cell_type": "markdown",
   "metadata": {
    "id": "ScsmUjcYKq5e"
   },
   "source": [
    "# XML Output "
   ]
  },
  {
   "cell_type": "code",
   "execution_count": null,
   "metadata": {
    "id": "lXYYsuZ0-V-0"
   },
   "outputs": [],
   "source": [
    "txml.output_to_xml(table_coords, list_table_boxes)"
   ]
  },
  {
   "cell_type": "markdown",
   "metadata": {
    "id": "I7fbWUENK78_"
   },
   "source": [
    "#Table Structure Recognition Bordered Tables"
   ]
  },
  {
   "cell_type": "code",
   "execution_count": null,
   "metadata": {
    "colab": {
     "base_uri": "https://localhost:8080/",
     "height": 1000
    },
    "id": "nv-8UTIm3iHy",
    "outputId": "4f0f62c5-221f-4910-ed25-714f9d8c5342"
   },
   "outputs": [],
   "source": [
    "bordered_table = cv2.imread(\"/content/test1.png\")\n",
    "list_table_boxes = []\n",
    "\n",
    "table_list = [bordered_table]\n",
    "\n",
    "for table in table_list:\n",
    "    finalboxes, output_img = tsrl.recognize_structure(table)\n",
    "    list_table_boxes.append(finalboxes)"
   ]
  },
  {
   "cell_type": "markdown",
   "metadata": {
    "id": "6AkMaplrMAv2"
   },
   "source": [
    "# Table Structure Recognition Unbordered Tables"
   ]
  },
  {
   "cell_type": "code",
   "execution_count": null,
   "metadata": {
    "colab": {
     "base_uri": "https://localhost:8080/",
     "height": 1000
    },
    "id": "ie9J843K4xPR",
    "outputId": "56c5c4a9-9757-47c0-efa0-3781e8136a12"
   },
   "outputs": [],
   "source": [
    "unbordered_table = cv2.imread(\"/content/Multi_Type_TD_TSR/images/unbordered_example.jpg\")\n",
    "list_table_boxes = []\n",
    "\n",
    "table_list = [unbordered_table]\n",
    "\n",
    "for table in table_list:\n",
    "    finalboxes, output_img = tsrwol.recognize_structure(table)\n",
    "    list_table_boxes.append(finalboxes)"
   ]
  },
  {
   "cell_type": "markdown",
   "metadata": {
    "id": "JuQsqAPsPSH1"
   },
   "source": [
    "#Table Structure Recognition Partially Bordered Tables"
   ]
  },
  {
   "cell_type": "code",
   "execution_count": null,
   "metadata": {
    "colab": {
     "base_uri": "https://localhost:8080/",
     "height": 1000
    },
    "id": "y7Lk83F88NHW",
    "outputId": "dbdd4cc7-8965-467b-8ee1-873595f3412f"
   },
   "outputs": [],
   "source": [
    "document_example = cv2.imread(\"/content/Multi_Type_TD_TSR/images/example.jpg\")\n",
    "\n",
    "table_listocrt, table_coords = table_detection.make_prediction(document_example, predictor)\n",
    "list_table_boxes = []\n",
    "for table in table_list:\n",
    "    finalboxes, output_img = tsrlwol.recognize_structure(table)\n",
    "    list_table_boxes.append(finalboxes)"
   ]
  },
  {
   "cell_type": "markdown",
   "metadata": {
    "id": "mqIt6tTgH3Bq"
   },
   "source": [
    "#Additional Feature: OCR with PyTesserect (Output in CSV)"
   ]
  },
  {
   "cell_type": "code",
   "execution_count": null,
   "metadata": {
    "colab": {
     "base_uri": "https://localhost:8080/"
    },
    "id": "NP4gRIsiH2Gh",
    "outputId": "df4d91c4-2b16-4404-fa1d-adf55edb3dbc"
   },
   "outputs": [],
   "source": [
    "tocr.output_to_csv(list_table_boxes[0], output_img)"
   ]
  },
  {
   "cell_type": "code",
   "execution_count": null,
   "metadata": {
    "id": "amIZ1G1sJRoM"
   },
   "outputs": [],
   "source": []
  }
 ],
 "metadata": {
  "accelerator": "GPU",
  "colab": {
   "collapsed_sections": [
    "1fYeYVp2klFt",
    "pQUnnsinlQVT",
    "NzywSWN0mPqt",
    "rAcoWOJhuy9f",
    "gfC4Tc0qyY-k",
    "74mow_zjx9PM",
    "ZULY2YyDJoYH",
    "HeGQWPR3KDcf",
    "ScsmUjcYKq5e",
    "I7fbWUENK78_",
    "6AkMaplrMAv2",
    "JuQsqAPsPSH1"
   ],
   "provenance": []
  },
  "kernelspec": {
   "display_name": "Python 3 (ipykernel)",
   "language": "python",
   "name": "python3"
  },
  "language_info": {
   "codemirror_mode": {
    "name": "ipython",
    "version": 3
   },
   "file_extension": ".py",
   "mimetype": "text/x-python",
   "name": "python",
   "nbconvert_exporter": "python",
   "pygments_lexer": "ipython3",
   "version": "3.8.10"
  },
  "vscode": {
   "interpreter": {
    "hash": "2f394aca7ca06fed1e6064aef884364492d7cdda3614a461e02e6407fc40ba69"
   }
  }
 },
 "nbformat": 4,
 "nbformat_minor": 4
}
