{
 "cells": [
  {
   "cell_type": "markdown",
   "id": "3cdd2407-2ff4-4f38-ba74-053ded9af494",
   "metadata": {},
   "source": [
    "## 含qt的代码一定要在终端或者pycharm, vscode这种工具中执行，不能在notebook中执行！！"
   ]
  },
  {
   "cell_type": "code",
   "execution_count": null,
   "id": "0313632f-1051-4943-8852-602482214e21",
   "metadata": {
    "tags": []
   },
   "outputs": [],
   "source": [
    "!python tsr.py --folder image/ --type borderd --img_output out/  --xml_output xml/ #在终端中执行才行"
   ]
  },
  {
   "cell_type": "code",
   "execution_count": null,
   "id": "f100166f-7813-49c8-8c2d-a0a1bbd2661f",
   "metadata": {},
   "outputs": [],
   "source": [
    "# 如果终端报qt错误，在base环境的终端中输入\n",
    "export QT_QPA_PLATFORM=offscreen"
   ]
  },
  {
   "cell_type": "markdown",
   "id": "ab6b1411-18dc-4951-be6d-ebe7c0cdfed6",
   "metadata": {},
   "source": [
    "## paddleOCR"
   ]
  },
  {
   "cell_type": "code",
   "execution_count": null,
   "id": "f9fca4f1-87a3-4e48-9bf5-a136ef538dbf",
   "metadata": {
    "tags": []
   },
   "outputs": [],
   "source": [
    "from paddleocr import PaddleOCR, draw_ocr\n",
    "\n",
    "def ocr_PaddleOCR(img): \n",
    "    ocr = PaddleOCR(use_angle_cls=True, lang=\"ch\",use_gpu= True)\n",
    "    result = ocr.ocr(img, cls=True)\n",
    "    #print(result[0][0][1][0])\n",
    "    # print(result)\n",
    "    for line in result:\n",
    "        print(line)\n",
    "    # 输出所有文本\n",
    "    for line in result:\n",
    "        print(line[1][0])\n",
    " \n",
    "ocr_PaddleOCR('11.png')"
   ]
  },
  {
   "cell_type": "code",
   "execution_count": 2,
   "id": "8c223a6e-8512-4793-b005-5a453ff9c766",
   "metadata": {},
   "outputs": [
    {
     "ename": "ModuleNotFoundError",
     "evalue": "No module named 'Multi_Type_TD_TSR'",
     "output_type": "error",
     "traceback": [
      "\u001b[0;31m---------------------------------------------------------------------------\u001b[0m",
      "\u001b[0;31mModuleNotFoundError\u001b[0m                       Traceback (most recent call last)",
      "Cell \u001b[0;32mIn[2], line 6\u001b[0m\n\u001b[1;32m      3\u001b[0m \u001b[38;5;28;01mimport\u001b[39;00m \u001b[38;5;21;01margparse\u001b[39;00m\n\u001b[1;32m      4\u001b[0m \u001b[38;5;28;01mimport\u001b[39;00m \u001b[38;5;21;01mos\u001b[39;00m\n\u001b[0;32m----> 6\u001b[0m \u001b[38;5;28;01mfrom\u001b[39;00m \u001b[38;5;21;01mMulti_Type_TD_TSR\u001b[39;00m\u001b[38;5;21;01m.\u001b[39;00m\u001b[38;5;21;01mscripts\u001b[39;00m\u001b[38;5;21;01m.\u001b[39;00m\u001b[38;5;21;01mTSR\u001b[39;00m \u001b[38;5;28;01mimport\u001b[39;00m table_structure_recognition_all \u001b[38;5;28;01mas\u001b[39;00m tsra\n\u001b[1;32m      7\u001b[0m \u001b[38;5;28;01mfrom\u001b[39;00m \u001b[38;5;21;01mMulti_Type_TD_TSR\u001b[39;00m\u001b[38;5;21;01m.\u001b[39;00m\u001b[38;5;21;01mscripts\u001b[39;00m\u001b[38;5;21;01m.\u001b[39;00m\u001b[38;5;21;01mTSR\u001b[39;00m \u001b[38;5;28;01mimport\u001b[39;00m table_structure_recognition_lines \u001b[38;5;28;01mas\u001b[39;00m tsrl\n\u001b[1;32m      8\u001b[0m \u001b[38;5;28;01mfrom\u001b[39;00m \u001b[38;5;21;01mMulti_Type_TD_TSR\u001b[39;00m\u001b[38;5;21;01m.\u001b[39;00m\u001b[38;5;21;01mscripts\u001b[39;00m\u001b[38;5;21;01m.\u001b[39;00m\u001b[38;5;21;01mTSR\u001b[39;00m \u001b[38;5;28;01mimport\u001b[39;00m table_structure_recognition_lines_wol \u001b[38;5;28;01mas\u001b[39;00m tsrlwol\n",
      "\u001b[0;31mModuleNotFoundError\u001b[0m: No module named 'Multi_Type_TD_TSR'"
     ]
    }
   ],
   "source": [
    "import numpy as np\n",
    "import cv2\n",
    "import argparse\n",
    "import os\n",
    "\n",
    "from Multi_Type_TD_TSR.scripts.TSR import table_structure_recognition_all as tsra\n",
    "from Multi_Type_TD_TSR.scripts.TSR import table_structure_recognition_lines as tsrl\n",
    "from Multi_Type_TD_TSR.scripts.TSR import table_structure_recognition_lines_wol as tsrlwol\n",
    "from Multi_Type_TD_TSR.scripts.TSR import table_structure_recognition_wol as tsrwol\n",
    "from Multi_Type_TD_TSR.google_colab import table_ocr as tocr\n",
    "\n",
    "from table_xml import output_to_xml\n",
    "\n",
    "if __name__ == \"__main__\":\n",
    "    type_dict = {\"borderd\":tsrl, \"unbordered\":tsrwol, \"partially\":tsrlwol, \"partially_color_inv\":tsra}\n",
    "    \n",
    "    # parser = argparse.ArgumentParser()\n",
    "    # parser.add_argument(\"--folder\", help=\"input folder\")\n",
    "    # parser.add_argument(\"--img_output\", help=\"image output folder\", default=\"\")\n",
    "    # parser.add_argument(\"--xml_output\", help=\"xml output folder\", default=\"\")\n",
    "    # parser.add_argument(\"--type\", help=\"borderd,unbordered,partially,partially_color_inv\", default=\"partially\")\n",
    "\n",
    "    # args = parser.parse_args()\n",
    "    \n",
    "    folder = 'img/'\n",
    "    img_output = 'out/'\n",
    "    xml_output = 'xml/'\n",
    "\n",
    "    files = os.listdir(folder)\n",
    "    \n",
    "    for file in files:\n",
    "        print(file)\n",
    "        print(folder)\n",
    "        img = cv2.imread(folder + \"/\" + file)\n",
    "        boxes, img_processed = tsrl.recognize_structure(img)\n",
    "        print(img_output + \"/\" + file)\n",
    "        if img_output:\n",
    "            cv2.imwrite(img_output + \"/\" + file, img_processed)\n",
    "        if xml_output:\n",
    "            print(xml_output + \"/\" + file[:-3])\n",
    "            output_to_xml(boxes, xml_output + \"/\" + file[:-3])\n",
    "            tocr.output_to_csv(boxes, img_processed)\n"
   ]
  },
  {
   "cell_type": "code",
   "execution_count": null,
   "id": "bdef647f-eb12-4a8d-9c49-f682876b7971",
   "metadata": {},
   "outputs": [],
   "source": [
    "tocr.output_to_csv(list_table_boxes[0], output_img)"
   ]
  }
 ],
 "metadata": {
  "kernelspec": {
   "display_name": "base",
   "language": "python",
   "name": "python3"
  },
  "language_info": {
   "codemirror_mode": {
    "name": "ipython",
    "version": 3
   },
   "file_extension": ".py",
   "mimetype": "text/x-python",
   "name": "python",
   "nbconvert_exporter": "python",
   "pygments_lexer": "ipython3",
   "version": "3.8.10"
  }
 },
 "nbformat": 4,
 "nbformat_minor": 5
}
